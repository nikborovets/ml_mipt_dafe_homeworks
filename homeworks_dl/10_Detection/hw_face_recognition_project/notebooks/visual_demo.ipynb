{
 "cells": [
  {
   "cell_type": "code",
   "execution_count": 4,
   "id": "initial_id",
   "metadata": {
    "ExecuteTime": {
     "end_time": "2025-06-06T21:06:02.430795Z",
     "start_time": "2025-06-06T21:05:57.966125Z"
    },
    "collapsed": true
   },
   "outputs": [
    {
     "name": "stderr",
     "output_type": "stream",
     "text": [
      "D:\\Coding\\ML_2025\\.venv\\Lib\\site-packages\\tqdm\\auto.py:21: TqdmWarning: IProgress not found. Please update jupyter and ipywidgets. See https://ipywidgets.readthedocs.io/en/stable/user_install.html\n",
      "  from .autonotebook import tqdm as notebook_tqdm\n"
     ]
    },
    {
     "name": "stdout",
     "output_type": "stream",
     "text": [
      "Модуль 'face_verifier' успешно импортирован.\n"
     ]
    }
   ],
   "source": [
    "import json\n",
    "import os\n",
    "import sys\n",
    "import matplotlib.pyplot as plt\n",
    "from PIL import Image\n",
    "import importlib  # <-- Добавляем эту библиотеку\n",
    "\n",
    "# --- Явное добавление пути к модулям ---\n",
    "\n",
    "# Определяем абсолютный путь к корневой папке проекта\n",
    "# Это делает код независимым от того, где запущен ноутбук\n",
    "project_root = os.path.abspath(os.path.join(os.getcwd()))\n",
    "\n",
    "# Формируем путь к папке 'src'\n",
    "src_path = os.path.join(project_root, 'src')\n",
    "\n",
    "# Добавляем путь в sys.path, если его там еще нет\n",
    "if src_path not in sys.path:\n",
    "    sys.path.insert(0, src_path)\n",
    "\n",
    "# --- Импорт нашего модуля ---\n",
    "\n",
    "# Пытаемся импортировать. Если не получается, даем понятную ошибку\n",
    "try:\n",
    "    import face_verifier\n",
    "    # Перезагружаем модуль на случай, если вы вносили в него изменения\n",
    "    importlib.reload(face_verifier)\n",
    "    from face_verifier import FaceVerifier\n",
    "except ModuleNotFoundError:\n",
    "    print(f\"ОШИБКА: Не удалось найти модуль 'face_verifier.py'.\")\n",
    "    print(f\"Убедитесь, что он лежит по пути: {src_path}\")\n",
    "    # Останавливаем выполнение, если модуль не найден\n",
    "    raise\n",
    "\n",
    "print(\"Модуль 'face_verifier' успешно импортирован.\")\n",
    "\n",
    "# --- Константы ---\n",
    "TEST_FOLDER = 'data/test_data/evaluation_set'\n",
    "MODELS_FOLDER = 'models'"
   ]
  },
  {
   "cell_type": "code",
   "execution_count": 5,
   "id": "409ede324b80545",
   "metadata": {
    "ExecuteTime": {
     "end_time": "2025-06-06T21:06:02.448288Z",
     "start_time": "2025-06-06T21:06:02.444584Z"
    }
   },
   "outputs": [],
   "source": [
    "# ==============================================================================\n",
    "# ===                        ЦЕНТР УПРАВЛЕНИЯ ТЕСТОМ                         ===\n",
    "# ==============================================================================\n",
    "#\n",
    "# Просто измените эту переменную, чтобы выбрать, кого тестировать.\n",
    "# Возможные значения: \"kolya\", \"seva\", \"bogdan\"\n",
    "#\n",
    "PERSON_TO_TEST = \"seva\"  # <-- ИЗМЕНИТЕ ЭТО ЗНАЧЕНИЕ ДЛЯ ДЕМОНСТРАЦИИ\n",
    "\n",
    "# --- Конфигурация для каждого участника ---\n",
    "TEST_SUBJECTS = {\n",
    "    \"kolya\": {\n",
    "        \"ref_image\": \"data/test_data/kolya_reference_photo.jpg\",\n",
    "        \"name_prefix\": \"kolya_\"\n",
    "    },\n",
    "    \"seva\": {\n",
    "        \"ref_image\": \"data/test_data/seva_reference_photo.jpg\",\n",
    "        \"name_prefix\": \"seva_\"\n",
    "    },\n",
    "    \"bogdan\": {\n",
    "        \"ref_image\": \"data/test_data/bogdan_reference_photo.jpg\",\n",
    "        \"name_prefix\": \"bogdan_\"\n",
    "    }\n",
    "}"
   ]
  },
  {
   "cell_type": "code",
   "execution_count": 6,
   "id": "3b19417357b46ba6",
   "metadata": {
    "ExecuteTime": {
     "end_time": "2025-06-06T21:06:02.804417Z",
     "start_time": "2025-06-06T21:06:02.466093Z"
    }
   },
   "outputs": [
    {
     "name": "stdout",
     "output_type": "stream",
     "text": [
      "Используется устройство: cpu\n",
      "ОШИБКА: Файл с порогом 'models\\verification_threshold.json' не найден! Запустите 'find_threshold.py' сначала.\n"
     ]
    }
   ],
   "source": [
    "# Загружаем наш верификатор\n",
    "verifier = FaceVerifier()\n",
    "\n",
    "# Загружаем найденный порог\n",
    "threshold_path = os.path.join(MODELS_FOLDER, 'verification_threshold.json')\n",
    "try:\n",
    "    with open(threshold_path, 'r') as f:\n",
    "        data = json.load(f)\n",
    "        threshold = data['best_threshold']\n",
    "except FileNotFoundError:\n",
    "    print(f\"ОШИБКА: Файл с порогом '{threshold_path}' не найден! Запустите 'find_threshold.py' сначала.\")\n",
    "    threshold = None # Устанавливаем в None, чтобы дальнейший код не выполнился\n",
    "\n",
    "if threshold:\n",
    "    print(f\"Верификатор загружен. Используется порог: {threshold:.4f}\")"
   ]
  },
  {
   "cell_type": "code",
   "execution_count": 7,
   "id": "2a3e2505a5473de0",
   "metadata": {
    "ExecuteTime": {
     "end_time": "2025-06-06T21:06:02.825899Z",
     "start_time": "2025-06-06T21:06:02.820365Z"
    }
   },
   "outputs": [],
   "source": [
    "def visualize_verification(ref_image_path, test_image_path, distance, threshold, true_match):\n",
    "    \"\"\"\n",
    "    Отрисовывает два изображения и выносит вердикт.\n",
    "    \"\"\"\n",
    "    fig, axes = plt.subplots(1, 2, figsize=(10, 5))\n",
    "\n",
    "    # Загружаем изображения\n",
    "    ref_img = Image.open(ref_image_path)\n",
    "    test_img = Image.open(test_image_path)\n",
    "\n",
    "    # Отображаем эталонное фото\n",
    "    axes[0].imshow(ref_img)\n",
    "    axes[0].set_title(\"Эталонное фото\")\n",
    "    axes[0].axis('off')\n",
    "\n",
    "    # Отображаем тестовое фото\n",
    "    axes[1].imshow(test_img)\n",
    "    axes[1].set_title(f\"Тестовое фото:\\n{os.path.basename(test_image_path)}\")\n",
    "    axes[1].axis('off')\n",
    "\n",
    "    plt.tight_layout()\n",
    "\n",
    "    # Логика предсказания\n",
    "    prediction_match = distance < threshold\n",
    "\n",
    "    # Формируем вердикт\n",
    "    verdict_text = \"Совпадение (Вы)\" if prediction_match else \"Несовпадение (Не вы)\"\n",
    "    is_correct = (prediction_match == true_match)\n",
    "\n",
    "    # Определяем цвет для текста вердикта\n",
    "    color = 'green' if is_correct else 'red'\n",
    "\n",
    "    # Выводим текстовую информацию под графиком\n",
    "    print(f\"Расстояние: {distance:.4f} (Порог: {threshold:.4f})\")\n",
    "    print(f\"Вердикт модели: {verdict_text}\")\n",
    "    print(f\"Правильный ответ: {'Совпадение' if true_match else 'Несовпадение'}\")\n",
    "    print(f\"Результат: \", end=\"\")\n",
    "\n",
    "    # Печатаем цветной результат\n",
    "    if is_correct:\n",
    "        print(\"\\033[92mПРАВИЛЬНО\\033[0m\") # Зеленый цвет\n",
    "    else:\n",
    "        print(\"\\033[91mНЕПРАВИЛЬНО\\033[0m\") # Красный цвет\n",
    "\n",
    "    plt.show()"
   ]
  },
  {
   "cell_type": "code",
   "execution_count": 8,
   "id": "4c85459352042368",
   "metadata": {
    "ExecuteTime": {
     "end_time": "2025-06-06T21:06:02.868470Z",
     "start_time": "2025-06-06T21:06:02.862617Z"
    }
   },
   "outputs": [
    {
     "name": "stdout",
     "output_type": "stream",
     "text": [
      "Невозможно запустить демонстрацию, так как порог не был загружен.\n"
     ]
    }
   ],
   "source": [
    "if threshold:\n",
    "    # Выбираем конфиг для нужного человека\n",
    "    subject_config = TEST_SUBJECTS[PERSON_TO_TEST]\n",
    "    ref_image_path = subject_config[\"ref_image\"]\n",
    "    name_prefix = subject_config[\"name_prefix\"]\n",
    "\n",
    "    print(\"=\"*60)\n",
    "    print(f\"=== ДЕМОНСТРАЦИЯ ДЛЯ: {PERSON_TO_TEST.upper()} ===\")\n",
    "    print(f\"Эталонное фото: {ref_image_path}\")\n",
    "    print(\"=\"*60, \"\\n\")\n",
    "\n",
    "    # Получаем эмбеддинг для эталонного фото\n",
    "    ref_embedding = verifier.get_embedding(ref_image_path)\n",
    "\n",
    "    if ref_embedding is None:\n",
    "        print(\"КРИТИЧЕСКАЯ ОШИБКА: Не удалось найти лицо на эталонном фото.\")\n",
    "    else:\n",
    "        # Проходим по всем файлам в тестовой папке\n",
    "        test_files = sorted([f for f in os.listdir(TEST_FOLDER) if f.lower().endswith(('.png', '.jpg', '.jpeg'))])\n",
    "\n",
    "        for filename in test_files:\n",
    "            test_image_path = os.path.join(TEST_FOLDER, filename)\n",
    "\n",
    "            # Получаем эмбеддинг для тестового фото\n",
    "            test_embedding = verifier.get_embedding(test_image_path)\n",
    "\n",
    "            # Вычисляем расстояние\n",
    "            distance = verifier.calculate_distance(ref_embedding, test_embedding)\n",
    "\n",
    "            # Определяем, является ли фото на самом деле \"своим\"\n",
    "            is_true_match = filename.startswith(name_prefix)\n",
    "\n",
    "            print(\"-\" * 50)\n",
    "\n",
    "            # Визуализируем результат\n",
    "            visualize_verification(ref_image_path, test_image_path, distance, threshold, is_true_match)\n",
    "\n",
    "            print(\"\\n\")\n",
    "else:\n",
    "    print(\"Невозможно запустить демонстрацию, так как порог не был загружен.\")"
   ]
  },
  {
   "cell_type": "code",
   "execution_count": null,
   "id": "a777c30203b53a3a",
   "metadata": {
    "ExecuteTime": {
     "end_time": "2025-06-06T21:06:02.897035Z",
     "start_time": "2025-06-06T21:06:02.894926Z"
    }
   },
   "outputs": [],
   "source": []
  },
  {
   "cell_type": "code",
   "execution_count": null,
   "id": "9c95f17ea4f775bd",
   "metadata": {
    "ExecuteTime": {
     "end_time": "2025-06-06T21:06:02.921325Z",
     "start_time": "2025-06-06T21:06:02.919231Z"
    }
   },
   "outputs": [],
   "source": []
  },
  {
   "cell_type": "code",
   "execution_count": null,
   "id": "88c3002ffa2a6ff",
   "metadata": {
    "ExecuteTime": {
     "end_time": "2025-06-06T21:06:02.951416Z",
     "start_time": "2025-06-06T21:06:02.948835Z"
    }
   },
   "outputs": [],
   "source": []
  },
  {
   "cell_type": "code",
   "execution_count": null,
   "id": "6f72ae8ad0d2d070",
   "metadata": {},
   "outputs": [],
   "source": []
  }
 ],
 "metadata": {
  "kernelspec": {
   "display_name": "Python 3",
   "language": "python",
   "name": "python3"
  },
  "language_info": {
   "codemirror_mode": {
    "name": "ipython",
    "version": 2
   },
   "file_extension": ".py",
   "mimetype": "text/x-python",
   "name": "python",
   "nbconvert_exporter": "python",
   "pygments_lexer": "ipython2",
   "version": "2.7.6"
  }
 },
 "nbformat": 4,
 "nbformat_minor": 5
}
