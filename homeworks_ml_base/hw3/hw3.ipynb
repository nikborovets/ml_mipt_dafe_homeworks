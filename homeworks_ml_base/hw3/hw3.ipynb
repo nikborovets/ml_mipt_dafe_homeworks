{
 "cells": [
  {
   "cell_type": "markdown",
   "metadata": {
    "id": "mNQ-I1PUU-PH"
   },
   "source": [
    "# hw3 - ensembles"
   ]
  },
  {
   "cell_type": "markdown",
   "metadata": {
    "id": "0ENj9WzCU-SK"
   },
   "source": [
    "## 1 Подготовка данных"
   ]
  },
  {
   "cell_type": "markdown",
   "metadata": {
    "id": "_MDgqWu9U-U-"
   },
   "source": [
    "Загрузите и предобработайте данные (по своему усмотрению) из hw1"
   ]
  },
  {
   "cell_type": "code",
   "execution_count": 18,
   "metadata": {},
   "outputs": [],
   "source": [
    "import pandas as pd\n",
    "import numpy as np\n",
    "from sklearn.model_selection import train_test_split\n",
    "from sklearn.ensemble import RandomForestRegressor\n",
    "from sklearn.naive_bayes import GaussianNB\n",
    "from sklearn.neighbors import KNeighborsRegressor\n",
    "from sklearn.svm import SVR\n",
    "from sklearn.metrics import mean_squared_error\n",
    "from sklearn.preprocessing import LabelEncoder\n",
    "from sklearn.ensemble import StackingRegressor\n",
    "from sklearn.linear_model import LinearRegression\n",
    "from sklearn.preprocessing import StandardScaler\n",
    "from sklearn.pipeline import Pipeline\n",
    "\n"
   ]
  },
  {
   "cell_type": "code",
   "execution_count": 19,
   "metadata": {
    "id": "IbSGi7csVlYZ"
   },
   "outputs": [],
   "source": [
    "X_train = pd.read_csv('train_features_with_answers.csv')\n",
    "X_test = pd.read_csv('X_test.csv')"
   ]
  },
  {
   "cell_type": "code",
   "execution_count": 20,
   "metadata": {},
   "outputs": [
    {
     "data": {
      "text/plain": [
       "Index(['school', 'sex', 'age', 'address', 'famsize', 'Pstatus', 'Medu', 'Fedu',\n",
       "       'Mjob', 'Fjob', 'reason', 'guardian', 'traveltime', 'studytime',\n",
       "       'failures', 'schoolsup', 'famsup', 'paid', 'activities', 'nursery',\n",
       "       'higher', 'internet', 'romantic', 'famrel', 'freetime', 'goout', 'Dalc',\n",
       "       'Walc', 'health', 'absences', 'G3'],\n",
       "      dtype='object')"
      ]
     },
     "execution_count": 20,
     "metadata": {},
     "output_type": "execute_result"
    }
   ],
   "source": [
    "X_train.columns"
   ]
  },
  {
   "cell_type": "code",
   "execution_count": 21,
   "metadata": {},
   "outputs": [],
   "source": [
    "def filling_nan(X_train):\n",
    "    missing_data = X_train.isnull().sum()\n",
    "    missing_results = []\n",
    "\n",
    "    for column, missing_count in missing_data.items():\n",
    "        if missing_count > 0:\n",
    "            if X_train[column].dtype in ['float64', 'int64']:\n",
    "                # для числовых медиана\n",
    "                fill_value = X_train[column].median()\n",
    "            else:\n",
    "                # для категориальных мода\n",
    "                fill_value = X_train[column].mode()[0]\n",
    "\n",
    "            X_train[column] = X_train[column].fillna(fill_value)\n",
    "            missing_results.append(\n",
    "                f\"{column} - {missing_count} - Заменено на {'медиану' if X_train[column].dtype in ['float64', 'int64'] else 'моду'} ({fill_value})\"\n",
    "            )\n",
    "        # else:\n",
    "        #     missing_results.append(f\"{column} - {missing_count} - Пропусков нет\")\n",
    "        \n",
    "    X_train = X_train[(X_train['age'] >= 15) & (X_train['age'] <= 22) & (X_train['sex'].isin(['M', 'F']))]\n",
    "    print(*missing_results, sep='\\n')\n",
    "    print(\"\\n\")\n",
    "    return X_train\n"
   ]
  },
  {
   "cell_type": "code",
   "execution_count": 22,
   "metadata": {},
   "outputs": [],
   "source": [
    "# X_train = X_train[(X_train['age'] >= 15) & (X_train['age'] <= 22) & (X_train['sex'].isin(['M', 'F']))]"
   ]
  },
  {
   "cell_type": "code",
   "execution_count": 23,
   "metadata": {},
   "outputs": [],
   "source": [
    "# categorical_columns = X_train.select_dtypes(include=['object']).columns.tolist()\n",
    "# X_train = pd.get_dummies(X_train, columns=categorical_columns, drop_first=True)\n",
    "\n",
    "# print(X_train.isnull().sum().sum())"
   ]
  },
  {
   "cell_type": "markdown",
   "metadata": {
    "id": "Em0erMH6WyEV"
   },
   "source": [
    "## 2 Обоснуйте выбор слабых (базовых) алгоритмов"
   ]
  },
  {
   "cell_type": "markdown",
   "metadata": {
    "id": "KqC_5cbgWyML"
   },
   "source": [
    "1. **KNN**: \n",
    "    - не требует обучения модели\n",
    "    - работает хорошо для небольших наборов данных\n",
    "    - чувствителен к размерности данных и может быть медленным на больших выборках.\n",
    "\n",
    "2. **Naive Bayes**: \n",
    "    - в основном для текстовых и категориальных данных\n",
    "    - предполагает независимость признаков\n",
    "    - подходит для задач классификации\n",
    "\n",
    "3. **Linear Regression**:\n",
    "    - легко интерпретируемый\n",
    "    - используется для регрессии с линейной зависимостью между признаками\n",
    "    - хорош для начального анализа и базового прогнозирования\n",
    "\n",
    "4. **SVM (Support Vector Machine)**: \n",
    "    - силен при работе с линейно и нелинейно разделимыми данными (с использованием ядра)\n",
    "    - эффективен для небольших выборок с четкими границами классов\n",
    "    - требует больших ресурсов на больших выборках"
   ]
  },
  {
   "cell_type": "markdown",
   "metadata": {
    "id": "R08QEdnPU-X5"
   },
   "source": [
    "## 3 Постройте решение на основе подхода Blending"
   ]
  },
  {
   "cell_type": "markdown",
   "metadata": {
    "id": "sF_TRbWxYQ8p"
   },
   "source": [
    "Правила:\n",
    "- Нужно использовать вероятности\n",
    "- Предложите что-то лучше, чем брать среднее от предсказаний моделей (оценивать уверенность алгоритмов, точности и т.д.)\n",
    "- Заставьте базовые алгоритмы быть некорелированными\n",
    "- Добавьте рандома (например, стройте ваши алгоритмы на разных выборках, по разному предобрабатывайте данные или применяйте для разных признаков соответствующие алгоритмы ... )\n",
    "- Проявите смекалку\n",
    "- Цель: метрика MSE на тесте меньше 10"
   ]
  },
  {
   "cell_type": "code",
   "execution_count": 24,
   "metadata": {},
   "outputs": [
    {
     "name": "stdout",
     "output_type": "stream",
     "text": [
      "age - 28 - Заменено на медиану (17.0)\n",
      "address - 5 - Заменено на моду (U)\n",
      "\n",
      "\n"
     ]
    }
   ],
   "source": [
    "X_train = pd.read_csv('train_features_with_answers.csv')\n",
    "\n",
    "X_train = filling_nan(X_train)\n",
    "\n",
    "y = X_train['G3']\n",
    "X = X_train.drop(columns=['G3'])\n",
    "\n",
    "categorical_columns = X.select_dtypes(include=['object']).columns\n",
    "le = LabelEncoder()\n",
    "for col in categorical_columns:\n",
    "    X[col] = le.fit_transform(X[col])\n",
    "\n",
    "X_train, X_valid, y_train, y_valid = train_test_split(X, y, test_size=0.2, random_state=42)"
   ]
  },
  {
   "cell_type": "code",
   "execution_count": 25,
   "metadata": {},
   "outputs": [
    {
     "name": "stdout",
     "output_type": "stream",
     "text": [
      "MSE на валидации:: 5.5624\n"
     ]
    }
   ],
   "source": [
    "models = {\n",
    "    \"GaussianNB\": GaussianNB(),\n",
    "    \"RandomForest\": RandomForestRegressor(n_estimators=100, random_state=42),\n",
    "    \"KNN\": KNeighborsRegressor(n_neighbors=5),\n",
    "    \"SVR\": SVR(kernel='rbf', C=10, gamma='scale')\n",
    "}\n",
    "\n",
    "predictions_train = []\n",
    "predictions_valid = []\n",
    "\n",
    "for name, model in models.items():\n",
    "    X_train_sample, _, y_train_sample, _ = train_test_split(X_train, y_train, test_size=0.5, random_state=42)\n",
    "\n",
    "    model.fit(X_train_sample, y_train_sample)\n",
    "\n",
    "    predictions_train.append(model.predict(X_train))\n",
    "    predictions_valid.append(model.predict(X_valid))\n",
    "\n",
    "predictions_train = np.array(predictions_train).T\n",
    "predictions_valid = np.array(predictions_valid).T\n",
    "\n",
    "weights = []\n",
    "for preds in predictions_train.T:\n",
    "    mse = mean_squared_error(y_train, preds)\n",
    "    weights.append(1 / mse)\n",
    "\n",
    "weights = np.array(weights) / np.sum(weights)\n",
    "\n",
    "final_preds = np.dot(predictions_valid, weights)\n",
    "\n",
    "mse_score = mean_squared_error(y_valid, final_preds)\n",
    "print(f\"MSE на валидации:: {mse_score:.4f}\")"
   ]
  },
  {
   "cell_type": "code",
   "execution_count": 26,
   "metadata": {},
   "outputs": [
    {
     "name": "stdout",
     "output_type": "stream",
     "text": [
      "MSE на валидации (с метамоделью): 7.0020\n"
     ]
    }
   ],
   "source": [
    "final_model = RandomForestRegressor(n_estimators=100, random_state=55)\n",
    "final_model.fit(predictions_train, y_train)\n",
    "\n",
    "final_val_predictions = final_model.predict(predictions_valid)\n",
    "final_val_mse = mean_squared_error(y_valid, final_val_predictions)\n",
    "print(f'MSE на валидации (с метамоделью): {final_val_mse:.4f}')"
   ]
  },
  {
   "cell_type": "code",
   "execution_count": 27,
   "metadata": {},
   "outputs": [
    {
     "name": "stdout",
     "output_type": "stream",
     "text": [
      "\n",
      "\n",
      "\n"
     ]
    }
   ],
   "source": [
    "X_test = pd.read_csv('X_test.csv')\n",
    "X_test = filling_nan(X_test)\n",
    "for col in categorical_columns:\n",
    "    X_test[col] = le.fit_transform(X_test[col])\n",
    "\n",
    "predictions_test = []\n",
    "for name, model in models.items():\n",
    "    predictions_test.append(model.predict(X_test))\n",
    "\n",
    "predictions_test = np.array(predictions_test).T\n",
    "final_test_preds = final_model.predict(predictions_test)\n"
   ]
  },
  {
   "cell_type": "code",
   "execution_count": 28,
   "metadata": {},
   "outputs": [
    {
     "data": {
      "text/html": [
       "<div>\n",
       "<style scoped>\n",
       "    .dataframe tbody tr th:only-of-type {\n",
       "        vertical-align: middle;\n",
       "    }\n",
       "\n",
       "    .dataframe tbody tr th {\n",
       "        vertical-align: top;\n",
       "    }\n",
       "\n",
       "    .dataframe thead th {\n",
       "        text-align: right;\n",
       "    }\n",
       "</style>\n",
       "<table border=\"1\" class=\"dataframe\">\n",
       "  <thead>\n",
       "    <tr style=\"text-align: right;\">\n",
       "      <th></th>\n",
       "      <th>G3</th>\n",
       "    </tr>\n",
       "    <tr>\n",
       "      <th>id</th>\n",
       "      <th></th>\n",
       "    </tr>\n",
       "  </thead>\n",
       "  <tbody>\n",
       "    <tr>\n",
       "      <th>0</th>\n",
       "      <td>13</td>\n",
       "    </tr>\n",
       "    <tr>\n",
       "      <th>1</th>\n",
       "      <td>14</td>\n",
       "    </tr>\n",
       "    <tr>\n",
       "      <th>2</th>\n",
       "      <td>13</td>\n",
       "    </tr>\n",
       "    <tr>\n",
       "      <th>3</th>\n",
       "      <td>14</td>\n",
       "    </tr>\n",
       "    <tr>\n",
       "      <th>4</th>\n",
       "      <td>10</td>\n",
       "    </tr>\n",
       "  </tbody>\n",
       "</table>\n",
       "</div>"
      ],
      "text/plain": [
       "    G3\n",
       "id    \n",
       "0   13\n",
       "1   14\n",
       "2   13\n",
       "3   14\n",
       "4   10"
      ]
     },
     "execution_count": 28,
     "metadata": {},
     "output_type": "execute_result"
    }
   ],
   "source": [
    "submission = pd.read_csv('sample_submission.csv', index_col='id')\n",
    "submission['G3'] = np.round(final_test_preds).astype(int)\n",
    "submission.to_csv('blending_submission.csv')\n",
    "submission.head()"
   ]
  },
  {
   "cell_type": "markdown",
   "metadata": {
    "id": "iRmBr8VRWolP"
   },
   "source": [
    "## 4 Постройте решение на основе подхода Stacking"
   ]
  },
  {
   "cell_type": "markdown",
   "metadata": {
    "id": "5oYYsgNRasfs"
   },
   "source": [
    "Правила:\n",
    "- Реализуйте пайплайн обучения и предсказания (например, sklearn.pipeline или класс)\n",
    "- Проведите оптимизацию пайплайна\n",
    "- Оцените вклад каждого базового алгоритма в итоговое предсказание\n",
    "- Цель: метрика MSE на тесте меньше 10"
   ]
  },
  {
   "cell_type": "code",
   "execution_count": 29,
   "metadata": {},
   "outputs": [
    {
     "name": "stdout",
     "output_type": "stream",
     "text": [
      "age - 28 - Заменено на медиану (17.0)\n",
      "address - 5 - Заменено на моду (U)\n",
      "\n",
      "\n"
     ]
    }
   ],
   "source": [
    "X_train = pd.read_csv('train_features_with_answers.csv')\n",
    "X_train = filling_nan(X_train)\n",
    "\n",
    "y = X_train['G3']\n",
    "X = X_train.drop(columns=['G3'])\n",
    "\n",
    "categorical_columns = X.select_dtypes(include=['object']).columns\n",
    "numerical_columns = X.select_dtypes(include=['int64', 'float64']).columns\n",
    "\n",
    "X = pd.get_dummies(X, columns=categorical_columns, drop_first=True)\n",
    "\n",
    "X_train, X_valid, y_train, y_valid = train_test_split(X, y, test_size=0.2, random_state=42)"
   ]
  },
  {
   "cell_type": "code",
   "execution_count": 30,
   "metadata": {},
   "outputs": [
    {
     "name": "stdout",
     "output_type": "stream",
     "text": [
      "MSE на валидации: 6.2071\n"
     ]
    }
   ],
   "source": [
    "base_learners = [\n",
    "    ('rf', RandomForestRegressor(n_estimators=100, random_state=42)),\n",
    "    ('svr', SVR(kernel='rbf', C=10))\n",
    "]\n",
    "\n",
    "meta_model = LinearRegression()\n",
    "\n",
    "stacking_model = StackingRegressor(estimators=base_learners, final_estimator=meta_model)\n",
    "\n",
    "pipeline = Pipeline([\n",
    "    ('scaler', StandardScaler()),\n",
    "    ('stacking', stacking_model)\n",
    "])\n",
    "\n",
    "pipeline.fit(X_train, y_train)\n",
    "y_pred = pipeline.predict(X_valid)\n",
    "\n",
    "mse_score = mean_squared_error(y_valid, y_pred)\n",
    "print(f\"MSE на валидации: {mse_score:.4f}\")"
   ]
  },
  {
   "cell_type": "code",
   "execution_count": 31,
   "metadata": {},
   "outputs": [
    {
     "name": "stdout",
     "output_type": "stream",
     "text": [
      "MSE для RF: 6.9040\n",
      "MSE для SVR: 5.2219\n"
     ]
    }
   ],
   "source": [
    "total_mse = 0\n",
    "mse_dict = {}\n",
    "\n",
    "for name, model in base_learners:\n",
    "    model.fit(X_train, y_train)\n",
    "    y_pred = model.predict(X_valid)\n",
    "    mse = mean_squared_error(y_valid, y_pred)\n",
    "    mse_dict[name] = mse\n",
    "    total_mse += mse\n",
    "    print(f\"MSE для {name.upper()}: {mse:.4f}\")"
   ]
  },
  {
   "cell_type": "code",
   "execution_count": 32,
   "metadata": {},
   "outputs": [
    {
     "name": "stdout",
     "output_type": "stream",
     "text": [
      "Вес RF: 43.06%\n",
      "Вес SVR: 56.94%\n"
     ]
    }
   ],
   "source": [
    "for name, mse in mse_dict.items():\n",
    "    contribution = (1 - mse / total_mse)\n",
    "    print(f\"Вес {name.upper()}: {contribution:.2%}\")"
   ]
  },
  {
   "cell_type": "code",
   "execution_count": null,
   "metadata": {
    "id": "Bc74w6f_WotV"
   },
   "outputs": [],
   "source": [
    "X_test = pd.read_csv('X_test.csv')\n",
    "X_test = pd.get_dummies(X_test, columns=categorical_columns, drop_first=True)\n",
    "\n",
    "for col in X_train.columns:\n",
    "    if col not in X_test.columns:\n",
    "        X_test[col] = 0\n",
    "X_test = X_test[X_train.columns]\n",
    "\n",
    "y_test_pred = pipeline.predict(X_test)"
   ]
  },
  {
   "cell_type": "code",
   "execution_count": 34,
   "metadata": {},
   "outputs": [
    {
     "data": {
      "text/html": [
       "<div>\n",
       "<style scoped>\n",
       "    .dataframe tbody tr th:only-of-type {\n",
       "        vertical-align: middle;\n",
       "    }\n",
       "\n",
       "    .dataframe tbody tr th {\n",
       "        vertical-align: top;\n",
       "    }\n",
       "\n",
       "    .dataframe thead th {\n",
       "        text-align: right;\n",
       "    }\n",
       "</style>\n",
       "<table border=\"1\" class=\"dataframe\">\n",
       "  <thead>\n",
       "    <tr style=\"text-align: right;\">\n",
       "      <th></th>\n",
       "      <th>G3</th>\n",
       "    </tr>\n",
       "    <tr>\n",
       "      <th>id</th>\n",
       "      <th></th>\n",
       "    </tr>\n",
       "  </thead>\n",
       "  <tbody>\n",
       "    <tr>\n",
       "      <th>0</th>\n",
       "      <td>12</td>\n",
       "    </tr>\n",
       "    <tr>\n",
       "      <th>1</th>\n",
       "      <td>13</td>\n",
       "    </tr>\n",
       "    <tr>\n",
       "      <th>2</th>\n",
       "      <td>13</td>\n",
       "    </tr>\n",
       "    <tr>\n",
       "      <th>3</th>\n",
       "      <td>13</td>\n",
       "    </tr>\n",
       "    <tr>\n",
       "      <th>4</th>\n",
       "      <td>12</td>\n",
       "    </tr>\n",
       "  </tbody>\n",
       "</table>\n",
       "</div>"
      ],
      "text/plain": [
       "    G3\n",
       "id    \n",
       "0   12\n",
       "1   13\n",
       "2   13\n",
       "3   13\n",
       "4   12"
      ]
     },
     "execution_count": 34,
     "metadata": {},
     "output_type": "execute_result"
    }
   ],
   "source": [
    "submission = pd.read_csv('sample_submission.csv', index_col='id')\n",
    "submission['G3'] = np.round(y_test_pred).astype(int)\n",
    "submission.to_csv('stacking_submission.csv')\n",
    "submission.head()"
   ]
  },
  {
   "cell_type": "markdown",
   "metadata": {
    "id": "gOSFp3Y9cO4r"
   },
   "source": [
    "## * Доп задание (не обязательно, но решение будет поощряться)"
   ]
  },
  {
   "cell_type": "markdown",
   "metadata": {
    "id": "biFb-0hPcqk6"
   },
   "source": [
    "Правила:\n",
    "- Постройте несколько сильных алгоритмов разного класса (это может быть бустинг, нейросеть, ансамбль слабых алгоритмов, алгоритм на статистике, что придумаете)\n",
    "- Реализуйте \"управляющий\" алгоритм, который на основе входных данных будет выбирать, какой из  сильных алгоритмов запустить (не на основе их работы, а именно на основе данных)"
   ]
  },
  {
   "cell_type": "code",
   "execution_count": null,
   "metadata": {
    "id": "yD-jrz7CcPAo"
   },
   "outputs": [],
   "source": []
  },
  {
   "cell_type": "code",
   "execution_count": null,
   "metadata": {
    "id": "e_vb2_cxVyWP"
   },
   "outputs": [],
   "source": []
  }
 ],
 "metadata": {
  "colab": {
   "provenance": [],
   "toc_visible": true
  },
  "kernelspec": {
   "display_name": ".venv",
   "language": "python",
   "name": "python3"
  },
  "language_info": {
   "codemirror_mode": {
    "name": "ipython",
    "version": 3
   },
   "file_extension": ".py",
   "mimetype": "text/x-python",
   "name": "python",
   "nbconvert_exporter": "python",
   "pygments_lexer": "ipython3",
   "version": "3.11.9"
  }
 },
 "nbformat": 4,
 "nbformat_minor": 4
}
